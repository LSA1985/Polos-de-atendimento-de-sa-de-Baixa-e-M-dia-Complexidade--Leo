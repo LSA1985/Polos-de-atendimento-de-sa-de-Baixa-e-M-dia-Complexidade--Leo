{
 "cells": [
  {
   "cell_type": "markdown",
   "metadata": {},
   "source": [
    "**Os dados, até a data do presente estudo, estão em https://saude-ibgedgc.hub.arcgis.com/datasets/2dfd385e7ded49c6b7f7929911806a20_2**\n",
    "\n",
    "**O presente arquivo é de terça, 27 de junho de 2020.**\n",
    "\n",
    "**Disclaimer/Aviso Legal: Este notebook tem um fim único e exclusivamente didático para alunos da FATEC, como uma introdução à Análise de Dados Públicos. Desse modo, está excluída a garantia ou responsabilidade de qualquer tipo, por exemplo, de precisão, confiabilidade, completude e atualidade das informações.**"
   ]
  },
  {
   "cell_type": "code",
   "execution_count": 1,
   "metadata": {},
   "outputs": [],
   "source": [
    "import pandas as pd\n",
    "low_memory=False\n",
    "%matplotlib inline\n",
    "pd.options.display.max_columns = 80\n",
    "pd.options.display.max_rows = 90"
   ]
  },
  {
   "cell_type": "code",
   "execution_count": 2,
   "metadata": {},
   "outputs": [],
   "source": [
    "filename = r'C:\\Users\\T-Gamer\\Leitos_de_UTI_em_2019 (2).csv'\n",
    "df = pd.read_csv(filename, delimiter=',', \n",
    "                 encoding='utf8',\n",
    "                 error_bad_lines=False)"
   ]
  },
  {
   "cell_type": "code",
   "execution_count": 3,
   "metadata": {},
   "outputs": [
    {
     "data": {
      "text/plain": [
       "(909, 8)"
      ]
     },
     "execution_count": 3,
     "metadata": {},
     "output_type": "execute_result"
    }
   ],
   "source": [
    "df.shape"
   ]
  },
  {
   "cell_type": "code",
   "execution_count": 4,
   "metadata": {
    "scrolled": true
   },
   "outputs": [
    {
     "name": "stdout",
     "output_type": "stream",
     "text": [
      "0 X\n",
      "1 Y\n",
      "2 OBJECTID\n",
      "3 Geocodigo\n",
      "4 Municipio\n",
      "5 Municipio_ou_referencia_arranjo\n",
      "6 Polos_de_Alta_Complexidade\n",
      "7 Polos_Baixa_media_complexidade\n"
     ]
    }
   ],
   "source": [
    "for k in range(0,len(df.columns)): print (k, df.columns[k])"
   ]
  },
  {
   "cell_type": "code",
   "execution_count": 5,
   "metadata": {
    "scrolled": true
   },
   "outputs": [
    {
     "data": {
      "text/html": [
       "<div>\n",
       "<style scoped>\n",
       "    .dataframe tbody tr th:only-of-type {\n",
       "        vertical-align: middle;\n",
       "    }\n",
       "\n",
       "    .dataframe tbody tr th {\n",
       "        vertical-align: top;\n",
       "    }\n",
       "\n",
       "    .dataframe thead th {\n",
       "        text-align: right;\n",
       "    }\n",
       "</style>\n",
       "<table border=\"1\" class=\"dataframe\">\n",
       "  <thead>\n",
       "    <tr style=\"text-align: right;\">\n",
       "      <th></th>\n",
       "      <th>X</th>\n",
       "      <th>Y</th>\n",
       "      <th>OBJECTID</th>\n",
       "      <th>Geocodigo</th>\n",
       "      <th>Municipio</th>\n",
       "      <th>Municipio_ou_referencia_arranjo</th>\n",
       "      <th>Polos_de_Alta_Complexidade</th>\n",
       "      <th>Polos_Baixa_media_complexidade</th>\n",
       "    </tr>\n",
       "  </thead>\n",
       "  <tbody>\n",
       "    <tr>\n",
       "      <th>202</th>\n",
       "      <td>-35.655919</td>\n",
       "      <td>-6.762603</td>\n",
       "      <td>203</td>\n",
       "      <td>2516003</td>\n",
       "      <td>SOLANEA</td>\n",
       "      <td>SOLANEA</td>\n",
       "      <td>NaN</td>\n",
       "      <td>polo de baixa e media complexidade de serviços...</td>\n",
       "    </tr>\n",
       "    <tr>\n",
       "      <th>296</th>\n",
       "      <td>-37.926306</td>\n",
       "      <td>-11.488056</td>\n",
       "      <td>297</td>\n",
       "      <td>2927002</td>\n",
       "      <td>RIO REAL</td>\n",
       "      <td>RIO REAL</td>\n",
       "      <td>NaN</td>\n",
       "      <td>polo de baixa e media complexidade de serviços...</td>\n",
       "    </tr>\n",
       "    <tr>\n",
       "      <th>674</th>\n",
       "      <td>-52.990200</td>\n",
       "      <td>-24.539900</td>\n",
       "      <td>675</td>\n",
       "      <td>4128005</td>\n",
       "      <td>UBIRATA</td>\n",
       "      <td>UBIRATA</td>\n",
       "      <td>NaN</td>\n",
       "      <td>polo de baixa e media complexidade de serviços...</td>\n",
       "    </tr>\n",
       "    <tr>\n",
       "      <th>703</th>\n",
       "      <td>-51.504683</td>\n",
       "      <td>-27.173997</td>\n",
       "      <td>704</td>\n",
       "      <td>4209003</td>\n",
       "      <td>JOACABA</td>\n",
       "      <td>JOACABA</td>\n",
       "      <td>Polo de alta complexidade de serviços de saúde</td>\n",
       "      <td>polo de baixa e media complexidade de serviços...</td>\n",
       "    </tr>\n",
       "    <tr>\n",
       "      <th>423</th>\n",
       "      <td>-42.418474</td>\n",
       "      <td>-18.189512</td>\n",
       "      <td>424</td>\n",
       "      <td>3158201</td>\n",
       "      <td>SANTA MARIA DO SUACUI</td>\n",
       "      <td>SANTA MARIA DO SUACUI</td>\n",
       "      <td>NaN</td>\n",
       "      <td>polo de baixa e media complexidade de serviços...</td>\n",
       "    </tr>\n",
       "    <tr>\n",
       "      <th>...</th>\n",
       "      <td>...</td>\n",
       "      <td>...</td>\n",
       "      <td>...</td>\n",
       "      <td>...</td>\n",
       "      <td>...</td>\n",
       "      <td>...</td>\n",
       "      <td>...</td>\n",
       "      <td>...</td>\n",
       "    </tr>\n",
       "    <tr>\n",
       "      <th>309</th>\n",
       "      <td>-39.463943</td>\n",
       "      <td>-11.410183</td>\n",
       "      <td>310</td>\n",
       "      <td>2933000</td>\n",
       "      <td>VALENTE</td>\n",
       "      <td>VALENTE</td>\n",
       "      <td>NaN</td>\n",
       "      <td>polo de baixa e media complexidade de serviços...</td>\n",
       "    </tr>\n",
       "    <tr>\n",
       "      <th>620</th>\n",
       "      <td>-50.512758</td>\n",
       "      <td>-21.934573</td>\n",
       "      <td>621</td>\n",
       "      <td>3555000</td>\n",
       "      <td>TUPA</td>\n",
       "      <td>TUPA</td>\n",
       "      <td>Subpolo de alta complexidade de serviços de saúde</td>\n",
       "      <td>polo de baixa e media complexidade de serviços...</td>\n",
       "    </tr>\n",
       "    <tr>\n",
       "      <th>722</th>\n",
       "      <td>-53.005028</td>\n",
       "      <td>-27.081333</td>\n",
       "      <td>723</td>\n",
       "      <td>4216008</td>\n",
       "      <td>SAO CARLOS</td>\n",
       "      <td>SAO CARLOS</td>\n",
       "      <td>NaN</td>\n",
       "      <td>polo de baixa e media complexidade de serviços...</td>\n",
       "    </tr>\n",
       "    <tr>\n",
       "      <th>422</th>\n",
       "      <td>-43.850645</td>\n",
       "      <td>-19.770266</td>\n",
       "      <td>423</td>\n",
       "      <td>3157807</td>\n",
       "      <td>SANTA LUZIA</td>\n",
       "      <td>SANTA LUZIA</td>\n",
       "      <td>NaN</td>\n",
       "      <td>subpolo de baixa e media complexidade de servi...</td>\n",
       "    </tr>\n",
       "    <tr>\n",
       "      <th>464</th>\n",
       "      <td>-42.341096</td>\n",
       "      <td>-22.877438</td>\n",
       "      <td>465</td>\n",
       "      <td>3300209</td>\n",
       "      <td>ARARUAMA</td>\n",
       "      <td>ARARUAMA</td>\n",
       "      <td>NaN</td>\n",
       "      <td>subpolo de baixa e media complexidade de servi...</td>\n",
       "    </tr>\n",
       "  </tbody>\n",
       "</table>\n",
       "<p>100 rows × 8 columns</p>\n",
       "</div>"
      ],
      "text/plain": [
       "             X          Y  OBJECTID  Geocodigo              Municipio  \\\n",
       "202 -35.655919  -6.762603       203    2516003                SOLANEA   \n",
       "296 -37.926306 -11.488056       297    2927002               RIO REAL   \n",
       "674 -52.990200 -24.539900       675    4128005                UBIRATA   \n",
       "703 -51.504683 -27.173997       704    4209003                JOACABA   \n",
       "423 -42.418474 -18.189512       424    3158201  SANTA MARIA DO SUACUI   \n",
       "..         ...        ...       ...        ...                    ...   \n",
       "309 -39.463943 -11.410183       310    2933000                VALENTE   \n",
       "620 -50.512758 -21.934573       621    3555000                   TUPA   \n",
       "722 -53.005028 -27.081333       723    4216008             SAO CARLOS   \n",
       "422 -43.850645 -19.770266       423    3157807            SANTA LUZIA   \n",
       "464 -42.341096 -22.877438       465    3300209               ARARUAMA   \n",
       "\n",
       "    Municipio_ou_referencia_arranjo  \\\n",
       "202                         SOLANEA   \n",
       "296                        RIO REAL   \n",
       "674                         UBIRATA   \n",
       "703                         JOACABA   \n",
       "423           SANTA MARIA DO SUACUI   \n",
       "..                              ...   \n",
       "309                         VALENTE   \n",
       "620                            TUPA   \n",
       "722                      SAO CARLOS   \n",
       "422                     SANTA LUZIA   \n",
       "464                        ARARUAMA   \n",
       "\n",
       "                            Polos_de_Alta_Complexidade  \\\n",
       "202                                                NaN   \n",
       "296                                                NaN   \n",
       "674                                                NaN   \n",
       "703     Polo de alta complexidade de serviços de saúde   \n",
       "423                                                NaN   \n",
       "..                                                 ...   \n",
       "309                                                NaN   \n",
       "620  Subpolo de alta complexidade de serviços de saúde   \n",
       "722                                                NaN   \n",
       "422                                                NaN   \n",
       "464                                                NaN   \n",
       "\n",
       "                        Polos_Baixa_media_complexidade  \n",
       "202  polo de baixa e media complexidade de serviços...  \n",
       "296  polo de baixa e media complexidade de serviços...  \n",
       "674  polo de baixa e media complexidade de serviços...  \n",
       "703  polo de baixa e media complexidade de serviços...  \n",
       "423  polo de baixa e media complexidade de serviços...  \n",
       "..                                                 ...  \n",
       "309  polo de baixa e media complexidade de serviços...  \n",
       "620  polo de baixa e media complexidade de serviços...  \n",
       "722  polo de baixa e media complexidade de serviços...  \n",
       "422  subpolo de baixa e media complexidade de servi...  \n",
       "464  subpolo de baixa e media complexidade de servi...  \n",
       "\n",
       "[100 rows x 8 columns]"
      ]
     },
     "execution_count": 5,
     "metadata": {},
     "output_type": "execute_result"
    }
   ],
   "source": [
    "df.sample(100)"
   ]
  },
  {
   "cell_type": "code",
   "execution_count": 6,
   "metadata": {},
   "outputs": [
    {
     "data": {
      "text/plain": [
       "<matplotlib.axes._subplots.AxesSubplot at 0x246a455a448>"
      ]
     },
     "execution_count": 6,
     "metadata": {},
     "output_type": "execute_result"
    },
    {
     "data": {
      "image/png": "[encoded data removed]",
      "text/plain": [
       "<Figure size 432x288 with 1 Axes>"
      ]
     },
     "metadata": {
      "needs_background": "light"
     },
     "output_type": "display_data"
    }
   ],
   "source": [
    "df.groupby('Municipio').size().sort_values().tail(5).plot(kind='barh')"
   ]
  },
  {
   "cell_type": "code",
   "execution_count": 7,
   "metadata": {},
   "outputs": [
    {
     "data": {
      "text/plain": [
       "<matplotlib.axes._subplots.AxesSubplot at 0x246a46582c8>"
      ]
     },
     "execution_count": 7,
     "metadata": {},
     "output_type": "execute_result"
    },
    {
     "data": {
      "image/png": "[encoded data removed]",
      "text/plain": [
       "<Figure size 432x432 with 1 Axes>"
      ]
     },
     "metadata": {},
     "output_type": "display_data"
    }
   ],
   "source": [
    "df.groupby('Municipio').size().sort_values().nlargest(15).plot.pie(subplots=False,figsize=(6, 6), autopct='%1.1f%%')"
   ]
  },
  {
   "cell_type": "code",
   "execution_count": 8,
   "metadata": {},
   "outputs": [
    {
     "data": {
      "text/plain": [
       "<matplotlib.axes._subplots.AxesSubplot at 0x246a4702808>"
      ]
     },
     "execution_count": 8,
     "metadata": {},
     "output_type": "execute_result"
    },
    {
     "data": {
      "image/png": "[encoded data removed]",
      "text/plain": [
       "<Figure size 432x288 with 1 Axes>"
      ]
     },
     "metadata": {
      "needs_background": "light"
     },
     "output_type": "display_data"
    }
   ],
   "source": [
    "df.groupby('Polos_de_Alta_Complexidade').size().sort_values().tail(5).plot(kind='barh')"
   ]
  },
  {
   "cell_type": "code",
   "execution_count": 9,
   "metadata": {},
   "outputs": [
    {
     "data": {
      "text/plain": [
       "<matplotlib.axes._subplots.AxesSubplot at 0x246a4764488>"
      ]
     },
     "execution_count": 9,
     "metadata": {},
     "output_type": "execute_result"
    },
    {
     "data": {
      "image/png": "[encoded data removed]",
      "text/plain": [
       "<Figure size 432x288 with 1 Axes>"
      ]
     },
     "metadata": {
      "needs_background": "light"
     },
     "output_type": "display_data"
    }
   ],
   "source": [
    "df.groupby('Polos_Baixa_media_complexidade').size().sort_values().tail(5).plot(kind='barh')"
   ]
  },
  {
   "cell_type": "code",
   "execution_count": 10,
   "metadata": {},
   "outputs": [
    {
     "data": {
      "text/plain": [
       "Municipio\n",
       "ABAETE            1\n",
       "PATROCINIO        1\n",
       "PAU DOS FERROS    1\n",
       "PAULISTANA        1\n",
       "PAULO AFONSO      1\n",
       "                 ..\n",
       "VICOSA            2\n",
       "REDENCAO          2\n",
       "VALENCA           2\n",
       "ITAPORANGA        2\n",
       "PRAIA GRANDE      2\n",
       "Length: 901, dtype: int64"
      ]
     },
     "execution_count": 10,
     "metadata": {},
     "output_type": "execute_result"
    }
   ],
   "source": [
    "df.groupby('Municipio').size().sort_values()"
   ]
  },
  {
   "cell_type": "code",
   "execution_count": 11,
   "metadata": {},
   "outputs": [
    {
     "data": {
      "text/plain": [
       "Polos_de_Alta_Complexidade\n",
       "Subpolo de alta complexidade de serviços de saúde     53\n",
       "Polo de alta complexidade de serviços de saúde       263\n",
       "dtype: int64"
      ]
     },
     "execution_count": 11,
     "metadata": {},
     "output_type": "execute_result"
    }
   ],
   "source": [
    "\n",
    "df.groupby('Polos_de_Alta_Complexidade').size().sort_values()"
   ]
  },
  {
   "cell_type": "code",
   "execution_count": 12,
   "metadata": {},
   "outputs": [
    {
     "data": {
      "text/plain": [
       "Polos_Baixa_media_complexidade\n",
       "subpolo de baixa e media complexidade de serviços de saúde    151\n",
       "polo de baixa e media complexidade de serviços de saúde       758\n",
       "dtype: int64"
      ]
     },
     "execution_count": 12,
     "metadata": {},
     "output_type": "execute_result"
    }
   ],
   "source": [
    "df.groupby('Polos_Baixa_media_complexidade').size().sort_values()"
   ]
  },
  {
   "cell_type": "code",
   "execution_count": 13,
   "metadata": {},
   "outputs": [
    {
     "data": {
      "text/plain": [
       "<matplotlib.axes._subplots.AxesSubplot at 0x246a47e9188>"
      ]
     },
     "execution_count": 13,
     "metadata": {},
     "output_type": "execute_result"
    },
    {
     "data": {
      "image/png": "[encoded data removed]",
      "text/plain": [
       "<Figure size 432x288 with 1 Axes>"
      ]
     },
     "metadata": {
      "needs_background": "light"
     },
     "output_type": "display_data"
    }
   ],
   "source": [
    "df.query('Municipio == \"SAO JOSE DOS CAMPOS\"').groupby('Polos_de_Alta_Complexidade').size().plot(kind='bar')"
   ]
  }
 ],
 "metadata": {
  "kernelspec": {
   "display_name": "Python 3",
   "language": "python",
   "name": "python3"
  },
  "language_info": {
   "codemirror_mode": {
    "name": "ipython",
    "version": 3
   },
   "file_extension": ".py",
   "mimetype": "text/x-python",
   "name": "python",
   "nbconvert_exporter": "python",
   "pygments_lexer": "ipython3",
   "version": "3.7.6"
  }
 },
 "nbformat": 4,
 "nbformat_minor": 4
}
